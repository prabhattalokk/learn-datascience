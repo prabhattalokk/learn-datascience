{
 "cells": [
  {
   "cell_type": "markdown",
   "id": "4c12af7c-43aa-44eb-a260-f30c70e2bd1e",
   "metadata": {},
   "source": [
    "# Data Science Tools and Ecosystem"
   ]
  },
  {
   "cell_type": "markdown",
   "id": "8d59a212-b3eb-4644-af32-6bceb4a507d5",
   "metadata": {},
   "source": [
    "In this notebook, Data Science Tools and Ecosystem are summarized."
   ]
  },
  {
   "cell_type": "markdown",
   "id": "2b3051ee-c2c0-432d-9308-f241cd824fba",
   "metadata": {},
   "source": [
    "Some of the popular languages that Data Scientists use are:\n",
    "1. Python\n",
    "2. R\n",
    "3. Java"
   ]
  },
  {
   "cell_type": "markdown",
   "id": "24931b19-73b3-4394-948c-de772e066705",
   "metadata": {},
   "source": [
    "Some of the commonly used libraries used by Data Scientists include:\n",
    "1. Pandas\n",
    "2. Numpy\n",
    "3. Matplotlib"
   ]
  },
  {
   "cell_type": "markdown",
   "id": "75b14f4a-2865-4aae-8718-a24bc0d2e9e1",
   "metadata": {},
   "source": [
    "|Data Science Tools|\n",
    "|------------------|\n",
    "|Jupyter Notebook|\n",
    "|R Studio|\n",
    "|Apache Spark|"
   ]
  },
  {
   "cell_type": "markdown",
   "id": "b30210b9-b58b-4d9b-b293-d60105b1d663",
   "metadata": {},
   "source": [
    "### Below are a few examples of evaluating arithmetic expressions in Python"
   ]
  },
  {
   "cell_type": "code",
   "execution_count": 1,
   "id": "26b791ed-2ae9-41ab-a17b-1b9447d60b6b",
   "metadata": {},
   "outputs": [
    {
     "data": {
      "text/plain": [
       "17"
      ]
     },
     "execution_count": 1,
     "metadata": {},
     "output_type": "execute_result"
    }
   ],
   "source": [
    "# This a simple arithmetic expression to multiply then add integers.\n",
    "(3*4)+5"
   ]
  },
  {
   "cell_type": "code",
   "execution_count": 2,
   "id": "6fd38cfe-f4d5-42a4-bdad-2b456700d493",
   "metadata": {},
   "outputs": [
    {
     "data": {
      "text/plain": [
       "3.3333333333333335"
      ]
     },
     "execution_count": 2,
     "metadata": {},
     "output_type": "execute_result"
    }
   ],
   "source": [
    "# This will convert 200 minutes to hours by dividing by 60\n",
    "(200/60)"
   ]
  },
  {
   "cell_type": "markdown",
   "id": "c708a037-369e-40b6-aa6a-bc87a7a8a4d6",
   "metadata": {},
   "source": [
    "**Objectives:**\n",
    "- List popular languages for Data Science\n",
    "- List Data Science libraries\n",
    "- List open source Data Science tools\n",
    "- Simple arithmetic expression"
   ]
  },
  {
   "cell_type": "markdown",
   "id": "73f9fb8b-e3fe-4e55-a0b0-a5be9261cee4",
   "metadata": {},
   "source": [
    "## Author\n",
    "Prabhat Alok"
   ]
  },
  {
   "cell_type": "code",
   "execution_count": null,
   "id": "625fcdfc-8fa3-4c65-8e3a-89c6cbd56547",
   "metadata": {},
   "outputs": [],
   "source": []
  }
 ],
 "metadata": {
  "kernelspec": {
   "display_name": "Python 3 (ipykernel)",
   "language": "python",
   "name": "python3"
  },
  "language_info": {
   "codemirror_mode": {
    "name": "ipython",
    "version": 3
   },
   "file_extension": ".py",
   "mimetype": "text/x-python",
   "name": "python",
   "nbconvert_exporter": "python",
   "pygments_lexer": "ipython3",
   "version": "3.11.7"
  }
 },
 "nbformat": 4,
 "nbformat_minor": 5
}
